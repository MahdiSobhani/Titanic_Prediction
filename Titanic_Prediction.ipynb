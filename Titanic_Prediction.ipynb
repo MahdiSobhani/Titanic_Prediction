{
  "cells": [
    {
      "cell_type": "markdown",
      "metadata": {
        "id": "4I59LwdOPA0m"
      },
      "source": [
        "## Preprocessing"
      ]
    },
    {
      "cell_type": "code",
      "execution_count": 8,
      "metadata": {
        "id": "XXe1byR5c283"
      },
      "outputs": [],
      "source": [
        "import numpy as np\n",
        "import pandas as pd\n",
        "import matplotlib.pyplot as plt\n",
        "from sklearn.preprocessing import MinMaxScaler\n",
        "from sklearn.tree import DecisionTreeClassifier\n",
        "from sklearn.ensemble import BaggingClassifier\n",
        "from sklearn.model_selection import train_test_split\n",
        "import warnings\n",
        "warnings.filterwarnings(\"ignore\")\n",
        "\n",
        "train = pd.read_csv('/home/mahdi/My/Project/zExcel/Kaggle/Titanic/train.csv')\n",
        "test  = pd.read_csv('/home/mahdi/My/Project/zExcel/Kaggle/Titanic/test.csv')       \n",
        "DATA = pd.concat([train, test], axis=0, ignore_index=True)\n",
        "\n",
        "def preprocessing():\n",
        "    global data\n",
        "\n",
        "    data = pd.concat([train, test], axis=0, ignore_index=True)\n",
        "\n",
        "    del data['Name'],data['Cabin'],data['Ticket'],data['PassengerId']\n",
        "\n",
        "    data[\"Age\"] = data[\"Age\"].fillna(data.groupby(\"Sex\")[\"Age\"].transform(\"median\"))\n",
        "\n",
        "    data['Embarked'] = data['Embarked'].fillna('S')\n",
        "    data = pd.get_dummies(data ,columns=['Embarked'],dtype=np.float64)\n",
        "\n",
        "    data['Fare'] = data['Fare'].fillna(data.groupby(\"Pclass\")[\"Fare\"].transform(\"mean\"))\n",
        "\n",
        "    data['Sex'].replace({'male':0 ,'female':1} ,inplace=True)\n",
        "\n",
        "\n",
        "\n",
        "def Outliers():                                                            \n",
        "    flt = (data['Fare'] >= 400) & (data['Survived'].notnull())\n",
        "    data.drop(data[flt].index, inplace=True)\n",
        "\n",
        "\n",
        "preprocessing()\n",
        "\n",
        "Outliers()"
      ]
    },
    {
      "cell_type": "markdown",
      "metadata": {
        "id": "9bkt_1q9VIPV"
      },
      "source": [
        "## Normalize & Split"
      ]
    },
    {
      "cell_type": "code",
      "execution_count": 9,
      "metadata": {
        "colab": {
          "base_uri": "https://localhost:8080/"
        },
        "id": "RJdpamE29vib",
        "outputId": "2e470e7e-292f-4881-fd12-61e7be1a601f"
      },
      "outputs": [
        {
          "data": {
            "text/plain": [
              "((799, 9), (799,))"
            ]
          },
          "execution_count": 9,
          "metadata": {},
          "output_type": "execute_result"
        }
      ],
      "source": [
        "Train = data[data['Survived'].notnull()]\n",
        "Test = data[data['Survived'].isnull()]\n",
        "\n",
        "train = MinMaxScaler().fit_transform(Train)\n",
        "test = MinMaxScaler().fit_transform(Test)\n",
        "\n",
        "X = train[:,1:]\n",
        "y = train[: ,0]\n",
        "\n",
        "TEST = test[: ,1:]\n",
        "\n",
        "x_train , x_test , y_train , y_test = train_test_split(X, y, test_size=0.1 , random_state=42 )\n",
        "x_train.shape ,y_train.shape"
      ]
    },
    {
      "cell_type": "markdown",
      "metadata": {},
      "source": [
        "## Modeling"
      ]
    },
    {
      "cell_type": "code",
      "execution_count": 10,
      "metadata": {},
      "outputs": [
        {
          "data": {
            "text/plain": [
              "0.8876404494382022"
            ]
          },
          "execution_count": 10,
          "metadata": {},
          "output_type": "execute_result"
        }
      ],
      "source": [
        "tree = DecisionTreeClassifier(max_depth=4, random_state=42, ccp_alpha=0.001)\n",
        "\n",
        "model = BaggingClassifier(base_estimator=tree, n_estimators=70, oob_score=True,   \n",
        "                        max_samples=0.75,                                          \n",
        "                        n_jobs=12 ,random_state=42)                 \n",
        "\n",
        "model.fit(x_train, y_train)\n",
        "\n",
        "Predict = model.predict(TEST)\n",
        "Kaggle = pd.DataFrame(DATA[DATA['Survived'].isnull()]['PassengerId'])\n",
        "Kaggle ['Survived'] = Predict\n",
        "Kaggle ['Survived'] = Kaggle ['Survived'].astype(int)\n",
        "\n",
        "model.score(x_test, y_test)"
      ]
    }
  ],
  "metadata": {
    "colab": {
      "provenance": []
    },
    "kernelspec": {
      "display_name": "Python 3",
      "name": "python3"
    },
    "language_info": {
      "codemirror_mode": {
        "name": "ipython",
        "version": 3
      },
      "file_extension": ".py",
      "mimetype": "text/x-python",
      "name": "python",
      "nbconvert_exporter": "python",
      "pygments_lexer": "ipython3",
      "version": "3.10.12"
    }
  },
  "nbformat": 4,
  "nbformat_minor": 0
}
