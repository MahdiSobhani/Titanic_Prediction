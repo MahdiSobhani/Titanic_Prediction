{
  "cells": [
    {
      "cell_type": "markdown",
      "metadata": {
        "id": "4I59LwdOPA0m"
      },
      "source": [
        "## Preprocessing"
      ]
    },
    {
      "cell_type": "code",
      "execution_count": 805,
      "metadata": {
        "id": "XXe1byR5c283"
      },
      "outputs": [],
      "source": [
        "import numpy as np\n",
        "import pandas as pd\n",
        "import warnings\n",
        "from sklearn.preprocessing import MinMaxScaler\n",
        "from sklearn.ensemble import BaggingClassifier\n",
        "from sklearn.tree import DecisionTreeClassifier\n",
        "from sklearn.model_selection import train_test_split\n",
        "warnings.filterwarnings(\"ignore\")\n",
        "\n",
        "train = pd.read_csv('/content/gdrive/My Drive/Kaggle/titanic/train.csv')\n",
        "test  = pd.read_csv('/content/gdrive/My Drive/Kaggle/titanic/test.csv')          \n",
        "\n",
        "def preprocessing():\n",
        "    global data\n",
        "\n",
        "    data = pd.concat([train, test], axis=0, ignore_index=True)\n",
        "\n",
        "    del data['Name'],data['Cabin'],data['Ticket'],data['PassengerId']\n",
        "\n",
        "    data[\"Age\"] = data[\"Age\"].fillna(data.groupby(\"Sex\")[\"Age\"].transform(\"median\"))\n",
        "\n",
        "    data['Embarked'] = data['Embarked'].fillna('S')\n",
        "    data = pd.get_dummies(data ,columns=['Embarked'],dtype=np.float64)\n",
        "\n",
        "    data['Fare'] = data['Fare'].fillna(data.groupby(\"Pclass\")[\"Fare\"].transform(\"mean\"))\n",
        "\n",
        "    data['Sex'].replace({'male':0 ,'female':1} ,inplace=True)\n",
        "\n",
        "\n",
        "\n",
        "def Outliers():                                                             \n",
        "    flt = (data['Fare'] >= 400) & (data['Survived'].notnull())\n",
        "    data.drop(data[flt].index, inplace=True)\n",
        "\n",
        "\n",
        "preprocessing()\n",
        "\n",
        "Outliers()"
      ]
    },
    {
      "cell_type": "markdown",
      "metadata": {
        "id": "9bkt_1q9VIPV"
      },
      "source": [
        "## Normalize & Split"
      ]
    },
    {
      "cell_type": "code",
      "execution_count": 813,
      "metadata": {
        "colab": {
          "base_uri": "https://localhost:8080/"
        },
        "id": "RJdpamE29vib",
        "outputId": "2e470e7e-292f-4881-fd12-61e7be1a601f"
      },
      "outputs": [
        {
          "data": {
            "text/plain": [
              "((737, 9), (737,))"
            ]
          },
          "execution_count": 813,
          "metadata": {},
          "output_type": "execute_result"
        }
      ],
      "source": [
        "X = MinMaxScaler().fit_transform(data)\n",
        "X = pd.DataFrame(X)\n",
        "\n",
        "train = X[X[0].notnull()]\n",
        "Test = X[X[0].isnull()]\n",
        "\n",
        "Test = Test.iloc[: ,1:]             # Predict It For Kaggel\n",
        "\n",
        "X = train.iloc[:,1:]                # features\n",
        "y = train.iloc[: ,0]                # Target\n",
        "\n",
        "x_train , x_test , y_train , y_test = train_test_split(X, y, test_size=0.17 , random_state=42 )             \n",
        "x_train.shape ,y_train.shape"
      ]
    },
    {
      "cell_type": "markdown",
      "metadata": {},
      "source": [
        "## Modeling"
      ]
    },
    {
      "cell_type": "code",
      "execution_count": null,
      "metadata": {},
      "outputs": [],
      "source": [
        "tree = DecisionTreeClassifier(max_depth=4, random_state=42, ccp_alpha=0.001)\n",
        "\n",
        "model = BaggingClassifier(base_estimator=tree, n_estimators=70, oob_score=True,   \n",
        "                        max_samples=0.75,                                          \n",
        "                        n_jobs=12 ,random_state=42)                 \n",
        "\n",
        "model.fit(x_train, y_train)\n",
        "model.score(x_test, y_test)\n",
        "\n",
        "Predict = model.predict(TEST)\n",
        "Kaggle = pd.DataFrame(DATA[DATA['Survived'].isnull()]['PassengerId'])\n",
        "Kaggle ['Survived'] = Predict\n",
        "Kaggle ['Survived'] = Kaggle ['Survived'].astype(int)\n",
        "# Kaggle.to_csv('/kaggle/working/Bagging_.csv' ,index=False)\n",
        "\n",
        "model.score(x_test, y_test)"
      ]
    }
  ],
  "metadata": {
    "colab": {
      "provenance": []
    },
    "kernelspec": {
      "display_name": "Python 3",
      "name": "python3"
    },
    "language_info": {
      "name": "python"
    }
  },
  "nbformat": 4,
  "nbformat_minor": 0
}
